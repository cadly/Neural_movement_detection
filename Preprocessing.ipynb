{
 "cells": [
  {
   "cell_type": "markdown",
   "id": "internal-screening",
   "metadata": {},
   "source": [
    "## Decimation"
   ]
  },
  {
   "cell_type": "code",
   "execution_count": 5,
   "id": "together-gazette",
   "metadata": {},
   "outputs": [],
   "source": [
    "def Decimation(emg, restimulus, InitialDecimationFactor):\n",
    "\n",
    "    decimateddata= np.zeros((int(np.ceil(emg.shape[0]/InitialDecimationFactor)), emg.shape[1]))\n",
    "    for j in range(emg.shape[1]):\n",
    "        array1= emg[:,j]\n",
    "        decimateddata[:,j]= array1[:: InitialDecimationFactor]\n",
    "\n",
    "    DecimatedRestimulus = restimulus[::InitialDecimationFactor]\n",
    "    return(decimateddata,DecimatedRestimulus)"
   ]
  },
  {
   "cell_type": "markdown",
   "id": "proved-colony",
   "metadata": {},
   "source": [
    "## Filteration"
   ]
  },
  {
   "cell_type": "code",
   "execution_count": 6,
   "id": "sealed-geometry",
   "metadata": {},
   "outputs": [],
   "source": [
    "def butter_highpass(FilterOrder, CutOffFrequency,SamplingFrequency):\n",
    "    Nyquist_Frequency = 0.5 * SamplingFrequency\n",
    "    Normalized_CutOffFrequency = CutOffFrequency / Nyquist_Frequency\n",
    "    b,a = signal.butter(FilterOrder, Normalized_CutOffFrequency, btype='highpass', analog=False)\n",
    "\n",
    "    return (b,a)"
   ]
  },
  {
   "cell_type": "markdown",
   "id": "charitable-embassy",
   "metadata": {},
   "source": [
    "## Root mean square "
   ]
  },
  {
   "cell_type": "code",
   "execution_count": 7,
   "id": "loved-sword",
   "metadata": {},
   "outputs": [],
   "source": [
    "def RMSForChannels(data,restimulus, window_size):\n",
    "     \n",
    "    RMS_data=np.zeros((data.shape[0],data.shape[1]))\n",
    "    \n",
    "# arr1 has the square value for the first window for all channels        \n",
    "    arr1=data[:window_size,:]**2\n",
    "    RMS_data[window_size-1,:] = np.mean(arr1,axis=0)\n",
    "    \n",
    "# for loop over all the data \n",
    "    for j in range(data.shape[0] - window_size): \n",
    "        RMS_data[j+window_size,:] = RMS_data[j+window_size-1,:] +(-data[j,:]**2+data[j+window_size,:]**2)/window_size\n",
    "\n",
    "    #RMS_data= RMS_data[window_size-1 :,:]  \n",
    "    restimulus_data = restimulus\n",
    "# return the RMS value as a numpy array\n",
    "    return (np.sqrt(RMS_data),restimulus_data)"
   ]
  },
  {
   "cell_type": "markdown",
   "id": "fleet-participation",
   "metadata": {},
   "source": [
    "## Normalization"
   ]
  },
  {
   "cell_type": "code",
   "execution_count": 9,
   "id": "medium-mountain",
   "metadata": {},
   "outputs": [],
   "source": [
    "def GetMainandSTD(RMSemg,restimulus):\n",
    "          \n",
    "    Filter_zero = np.ravel(restimulus == 0)\n",
    "    RMSEMG_rest = RMSemg[Filter_zero,:]\n",
    "    RMSEMG_rest.sort(axis=0)\n",
    "    x=  int(0.3*RMSEMG_rest.shape[0])\n",
    "    less_array = RMSEMG_rest[: x,:]\n",
    "    \n",
    "    restmean = np.mean(less_array,axis = 0)\n",
    "    reststd = np.std(less_array, axis = 0)\n",
    "    \n",
    "    return(restmean, reststd)"
   ]
  },
  {
   "cell_type": "code",
   "execution_count": null,
   "id": "massive-retreat",
   "metadata": {},
   "outputs": [],
   "source": []
  }
 ],
 "metadata": {
  "kernelspec": {
   "display_name": "Python 3",
   "language": "python",
   "name": "python3"
  },
  "language_info": {
   "codemirror_mode": {
    "name": "ipython",
    "version": 3
   },
   "file_extension": ".py",
   "mimetype": "text/x-python",
   "name": "python",
   "nbconvert_exporter": "python",
   "pygments_lexer": "ipython3",
   "version": "3.8.5"
  }
 },
 "nbformat": 4,
 "nbformat_minor": 5
}
