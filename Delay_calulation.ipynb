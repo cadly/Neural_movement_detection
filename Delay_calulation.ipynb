{
 "cells": [
  {
   "cell_type": "code",
   "execution_count": 1,
   "id": "equal-jewel",
   "metadata": {},
   "outputs": [],
   "source": [
    "def calculate_delay(y_hat,y,experiment_number):\n",
    "    y_hat = y_hat.numpy()\n",
    "    y= y.numpy()\n",
    "    \n",
    "    indeces_for_one_true_label = np.where(y == experiment_number)\n",
    "    indeces_for_one_y_hat = np.where(y_hat == experiment_number)\n",
    "    delay_value =indeces_for_one_y_hat[0][0] -  indeces_for_one_true_label[0][0]\n",
    "    return (delay_value)"
   ]
  },
  {
   "cell_type": "code",
   "execution_count": null,
   "id": "constant-mystery",
   "metadata": {},
   "outputs": [],
   "source": []
  }
 ],
 "metadata": {
  "kernelspec": {
   "display_name": "Python 3",
   "language": "python",
   "name": "python3"
  },
  "language_info": {
   "codemirror_mode": {
    "name": "ipython",
    "version": 3
   },
   "file_extension": ".py",
   "mimetype": "text/x-python",
   "name": "python",
   "nbconvert_exporter": "python",
   "pygments_lexer": "ipython3",
   "version": "3.8.5"
  }
 },
 "nbformat": 4,
 "nbformat_minor": 5
}
