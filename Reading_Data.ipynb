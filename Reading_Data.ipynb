{
 "cells": [
  {
   "cell_type": "code",
   "execution_count": 1,
   "id": "bronze-collapse",
   "metadata": {},
   "outputs": [],
   "source": [
    "def read_ninapro_2_EMG_trial(file_path):\n",
    "    \"\"\"\n",
    "    Reads an EMG trial from a local drive\n",
    "    Args:\n",
    "        file_path (str): location of the trial file\n",
    "    Returns: \n",
    "        EMG (numpy array): an array containing EMG data from the trial\n",
    "        Stimulus (numpy array):   an array containing relabeled stimulus of the trial \n",
    "\"\"\"\n",
    "    data = loadmat(file_path)\n",
    "    emg_signal = np.array(data['emg'])\n",
    "    restimulus = np.array(data['restimulus'])\n",
    "    np.set_printoptions(threshold=sys.maxsize)  \n",
    "\n",
    "    return(emg_signal, restimulus)"
   ]
  },
  {
   "cell_type": "code",
   "execution_count": null,
   "id": "sporting-broadcast",
   "metadata": {},
   "outputs": [],
   "source": []
  }
 ],
 "metadata": {
  "kernelspec": {
   "display_name": "Python 3",
   "language": "python",
   "name": "python3"
  },
  "language_info": {
   "codemirror_mode": {
    "name": "ipython",
    "version": 3
   },
   "file_extension": ".py",
   "mimetype": "text/x-python",
   "name": "python",
   "nbconvert_exporter": "python",
   "pygments_lexer": "ipython3",
   "version": "3.8.5"
  }
 },
 "nbformat": 4,
 "nbformat_minor": 5
}
