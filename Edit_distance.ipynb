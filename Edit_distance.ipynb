{
 "cells": [
  {
   "cell_type": "code",
   "execution_count": 11,
   "id": "touched-baker",
   "metadata": {},
   "outputs": [],
   "source": [
    "def edit_distance( window_list, truelabel, signal2string):\n",
    "    edit_distance= np.empty(len(window_list))\n",
    "    for i in range (len(window_list)):\n",
    "        edit_distance[i] = Levenshtein.distance(truelabel,signal2string[i])\n",
    "    return(edit_distance)"
   ]
  }
 ],
 "metadata": {
  "kernelspec": {
   "display_name": "Python 3",
   "language": "python",
   "name": "python3"
  },
  "language_info": {
   "codemirror_mode": {
    "name": "ipython",
    "version": 3
   },
   "file_extension": ".py",
   "mimetype": "text/x-python",
   "name": "python",
   "nbconvert_exporter": "python",
   "pygments_lexer": "ipython3",
   "version": "3.8.5"
  }
 },
 "nbformat": 4,
 "nbformat_minor": 5
}
