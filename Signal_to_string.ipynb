{
 "cells": [
  {
   "cell_type": "code",
   "execution_count": 11,
   "id": "typical-strap",
   "metadata": {},
   "outputs": [],
   "source": [
    "#to conver a list to string \n",
    "def convert(s):\n",
    "    # initialization of string to \"\"\n",
    "    new = \"\"\n",
    "    # traverse in the string \n",
    "    for x in s:\n",
    "        new += x \n",
    "    # return string \n",
    "    return new"
   ]
  },
  {
   "cell_type": "code",
   "execution_count": 12,
   "id": "armed-accident",
   "metadata": {},
   "outputs": [],
   "source": [
    "#to get the index of the capital letter:\n",
    "def getindices(s):\n",
    "    return [i for i, c in enumerate(s) if c.isupper()]"
   ]
  },
  {
   "cell_type": "code",
   "execution_count": null,
   "id": "iraqi-howard",
   "metadata": {},
   "outputs": [],
   "source": []
  }
 ],
 "metadata": {
  "kernelspec": {
   "display_name": "Python 3",
   "language": "python",
   "name": "python3"
  },
  "language_info": {
   "codemirror_mode": {
    "name": "ipython",
    "version": 3
   },
   "file_extension": ".py",
   "mimetype": "text/x-python",
   "name": "python",
   "nbconvert_exporter": "python",
   "pygments_lexer": "ipython3",
   "version": "3.8.5"
  }
 },
 "nbformat": 4,
 "nbformat_minor": 5
}
