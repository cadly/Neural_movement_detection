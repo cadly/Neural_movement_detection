{
 "cells": [
  {
   "cell_type": "code",
   "execution_count": 10,
   "id": "saving-characteristic",
   "metadata": {},
   "outputs": [],
   "source": [
    "from collections import Counter\n",
    "import numpy as np\n",
    "\n",
    "def majorityvote(arr,window):\n",
    "    \n",
    "    arr_MV= arr\n",
    "    arr_MV[0:window]= arr[0:window]\n",
    "    arr1 = np.random.rand(arr.shape[0],window)\n",
    "    arr2 = np.random.rand(arr.shape[0],window)\n",
    "\n",
    "    for i in range(arr.shape[0]-window+1):\n",
    "        arr1[i,:]= arr[i:window+i]\n",
    "    for i in range(arr.shape[0]-2*window):\n",
    "        arr2[i,:]= arr[window+i+1 : 2*window+i+1]\n",
    "    \n",
    "    arr3 = arr1[0:arr.shape[0]-window]\n",
    "    arr4 = arr2[0:arr3.shape[0]]\n",
    "    \n",
    "    for i in range(arr3.shape[0]):\n",
    "        count_zero_arr3 = np.count_nonzero(arr3[i,:]==0)\n",
    "        count_one_arr3 = np.count_nonzero(arr3[i,:]==1)\n",
    "        count_zero_arr4 = np.count_nonzero(arr4[i,:]==0)\n",
    "        count_one_arr4 =  np.count_nonzero(arr4[i,:]==1)\n",
    "        count_zero = count_zero_arr3 +count_zero_arr4\n",
    "        count_one = count_one_arr3 +count_one_arr4\n",
    "        \n",
    "       # if i < (arr3.shape[0]-window): \n",
    "        if (count_zero >= count_one):\n",
    "                arr_MV[window+i] = 0\n",
    "        else:\n",
    "                arr_MV[window+i] =1\n",
    "    #arr_MV[arr.shape[0]-window:arr.shape[0]]=arr[arr.shape[0]-window:arr.shape[0]]            \n",
    "    return arr_MV \n",
    "  \n"
   ]
  }
 ],
 "metadata": {
  "kernelspec": {
   "display_name": "Python 3",
   "language": "python",
   "name": "python3"
  },
  "language_info": {
   "codemirror_mode": {
    "name": "ipython",
    "version": 3
   },
   "file_extension": ".py",
   "mimetype": "text/x-python",
   "name": "python",
   "nbconvert_exporter": "python",
   "pygments_lexer": "ipython3",
   "version": "3.8.5"
  }
 },
 "nbformat": 4,
 "nbformat_minor": 5
}
