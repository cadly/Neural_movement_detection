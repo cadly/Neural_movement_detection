{
 "cells": [
  {
   "cell_type": "markdown",
   "id": "extra-complement",
   "metadata": {},
   "source": [
    "## Plotting using the channel number/"
   ]
  },
  {
   "cell_type": "code",
   "execution_count": 2,
   "id": "continuing-extension",
   "metadata": {},
   "outputs": [],
   "source": [
    "\n",
    "def plotting_EMG_RES(decemg,rmsemg,rmsrestimulus,start_point, end_point,channel_numbers,sampling_freqency):\n",
    "    \"\"\"\n",
    "    plot  EMG signal and restimulus\n",
    "    Args:\n",
    "        emg : emg signals returned from read_ninapro_2 function\n",
    "        restimulus : restimulus values from read_ninapro_2 function \n",
    "        start point : start point in time (x axis)\n",
    "        end point : end point in time( x axis )\n",
    "        no_of_channels : number of channels to be plotted \n",
    "    Returns: \n",
    "       two synchronized plots for emg and restimulus \n",
    "\"\"\"\n",
    "# different colors for plots\n",
    "    colors=[\"red\",\"blue\",\"black\",\"green\",\"orange\",\"navy\",\"wheat\",\"tan\",\"maroon\",\"teal\",\"olive\",\"coral\"]\n",
    "    \n",
    "#to convert from samples to (ms)\n",
    "    \n",
    "    steps=np.arange(decemg.shape[0])\n",
    "    time_steps=steps*(1000/sampling_freqency)\n",
    "            \n",
    "    output_notebook()\n",
    "    \n",
    "# determine the start and end point    \n",
    "    xr1 = Range1d(start=start_point, end=end_point)\n",
    "    yr1 = Range1d(start=0, end=200)\n",
    "   # yr2= Range1d(start = 0, end = 2)\n",
    "#Hover tool to determine x and y for each point using mouse\n",
    "    TOOLTIPS = [(\"index\", \"$index\"),(\"(x,y)\", \"($x, $y)\"), (\"desc\", \"@desc\")]\n",
    "    \n",
    "# create a new plot with a title and axis labels\n",
    "    EMG_SIGNAL = figure(x_range=xr1,tooltips=TOOLTIPS)\n",
    "    RESTIMULUS= figure(x_range=xr1,tooltips=TOOLTIPS)\n",
    "    \n",
    "# plot emg signls and restimulus as two synchronized plots \n",
    "    for i in channel_numbers:\n",
    "        EMG_SIGNAL.multi_line([time_steps,time_steps],[decemg[:,i],rmsemg[:,i]],color=[colors[i],colors[i+1]],legend_label=\"EMG signal\",line_width=2)\n",
    "    EMG_SIGNAL.yaxis.axis_label = 'Raw data'\n",
    "    EMG_SIGNAL.xaxis.axis_label = 'time(ms)'\n",
    "    \n",
    "    RESTIMULUS.line(time_steps, rmsrestimulus[:,0], legend_label=\"Restimulus\", line_width=2) \n",
    "    RESTIMULUS.xaxis.axis_label = 'time(ms)'\n",
    "    \n",
    " # show the results\n",
    "    show(column(EMG_SIGNAL,RESTIMULUS))"
   ]
  },
  {
   "cell_type": "markdown",
   "id": "special-study",
   "metadata": {},
   "source": [
    "## Plotting using number of channels "
   ]
  },
  {
   "cell_type": "code",
   "execution_count": 4,
   "id": "fourth-muscle",
   "metadata": {},
   "outputs": [],
   "source": [
    "def plotting_EMG_RES1(emg,restimulus,start_point, end_point,no_of_channels,sampling_freqency):\n",
    "    \"\"\"\n",
    "    plot  EMG signal and restimulus\n",
    "    Args:\n",
    "        emg : emg signals returned from read_ninapro_2 function\n",
    "        restimulus : restimulus values from read_ninapro_2 function \n",
    "        start point : start point in time (x axis)\n",
    "        end point : end point in time( x axis )\n",
    "        no_of_channels : number of channels to be plotted \n",
    "    Returns: \n",
    "       two synchronized plots for emg and restimulus \n",
    "\"\"\"\n",
    "# different colors for plots\n",
    "    colors=[\"red\",\"blue\",\"black\",\"green\",\"orange\",\"navy\",\"wheat\",\"tan\",\"maroon\",\"teal\",\"olive\",\"coral\"]\n",
    "    \n",
    "#to convert from samples to (ms)\n",
    "    \n",
    "    steps=np.arange(emg.shape[0])\n",
    "    time_steps=steps*(1000/sampling_freqency)\n",
    "            \n",
    "    output_notebook()\n",
    "    \n",
    "# determine the start and end point    \n",
    "    xr1 = Range1d(start=start_point, end=end_point)\n",
    "    yr1 = Range1d(start=0, end=200)\n",
    "   # yr2= Range1d(start = 0, end = 10)\n",
    "#Hover tool to determine x and y for each point using mouse\n",
    "    TOOLTIPS = [(\"index\", \"$index\"),(\"(x,y)\", \"($x, $y)\"), (\"desc\", \"@desc\")]\n",
    "    \n",
    "# create a new plot with a title and axis labels\n",
    "    EMG_SIGNAL = figure(x_range=xr1,y_range=yr1,tooltips=TOOLTIPS)\n",
    "    RESTIMULUS= figure(x_range=xr1,tooltips=TOOLTIPS)\n",
    "    \n",
    "# plot emg signls and restimulus as two synchronized plots \n",
    "    for i in range(no_of_channels):\n",
    "        EMG_SIGNAL.line(time_steps,emg[:,i],color=colors[i],legend_label=\"Normalized EMG signal\",line_width=2)\n",
    "    EMG_SIGNAL.yaxis.axis_label = 'normalized signal'\n",
    "    EMG_SIGNAL.xaxis.axis_label = 'time(ms)'\n",
    "    \n",
    "    RESTIMULUS.line(time_steps, restimulus[:,0], legend_label=\"Restimulus\", line_width=2) \n",
    "    RESTIMULUS.xaxis.axis_label = 'time(ms)'\n",
    "    \n",
    " # show the results\n",
    "    show(column(EMG_SIGNAL,RESTIMULUS))"
   ]
  },
  {
   "cell_type": "code",
   "execution_count": null,
   "id": "described-oracle",
   "metadata": {},
   "outputs": [],
   "source": []
  }
 ],
 "metadata": {
  "kernelspec": {
   "display_name": "Python 3",
   "language": "python",
   "name": "python3"
  },
  "language_info": {
   "codemirror_mode": {
    "name": "ipython",
    "version": 3
   },
   "file_extension": ".py",
   "mimetype": "text/x-python",
   "name": "python",
   "nbconvert_exporter": "python",
   "pygments_lexer": "ipython3",
   "version": "3.8.5"
  }
 },
 "nbformat": 4,
 "nbformat_minor": 5
}
