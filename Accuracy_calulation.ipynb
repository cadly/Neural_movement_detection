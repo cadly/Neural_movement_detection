{
 "cells": [
  {
   "cell_type": "code",
   "execution_count": 2,
   "id": "agreed-diagnosis",
   "metadata": {},
   "outputs": [],
   "source": [
    "def accuarcy_calculation(y,y_hat):\n",
    "    correct_values = torch.eq(y_hat,res_testing).float().sum()\n",
    "    accuracy_testing= (correct_values/torch.numel(res_testing))*100\n",
    "    return accuracy_testing"
   ]
  },
  {
   "cell_type": "code",
   "execution_count": 3,
   "id": "australian-volunteer",
   "metadata": {},
   "outputs": [],
   "source": [
    "def get_accuracy(y,y_hat,experiment_number):\n",
    "    \n",
    "    indeces_for_one_true_label = tf.where(y == experiment_number)\n",
    "    indeces_for_zero_true_label = tf.where(y == 0)\n",
    "    indeces_for_one_y_hat = tf.where(y_hat == experiment_number)\n",
    "    indeces_for_zero_y_hat = tf.where(y_hat == 0)\n",
    "    count_true = 0\n",
    "    for i in range(indeces_for_one_true_label.shape[0]):\n",
    "        if (y_hat[int(indeces_for_one_true_label[i][0])] == experiment_number):\n",
    "            count_true = count_true+1\n",
    "        \n",
    "    for i in range(indeces_for_zero_true_label.shape[0]): \n",
    "        if (y_hat[int(indeces_for_zero_true_label[i][0])] == 0):\n",
    "            count_true = count_true+1\n",
    "    \n",
    "    return(count_true/ y.shape[0])"
   ]
  },
  {
   "cell_type": "code",
   "execution_count": null,
   "id": "strong-statement",
   "metadata": {},
   "outputs": [],
   "source": []
  }
 ],
 "metadata": {
  "kernelspec": {
   "display_name": "Python 3",
   "language": "python",
   "name": "python3"
  },
  "language_info": {
   "codemirror_mode": {
    "name": "ipython",
    "version": 3
   },
   "file_extension": ".py",
   "mimetype": "text/x-python",
   "name": "python",
   "nbconvert_exporter": "python",
   "pygments_lexer": "ipython3",
   "version": "3.8.5"
  }
 },
 "nbformat": 4,
 "nbformat_minor": 5
}
